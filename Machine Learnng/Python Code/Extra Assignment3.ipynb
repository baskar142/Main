{
 "cells": [
  {
   "cell_type": "code",
   "execution_count": 12,
   "id": "fe47dfdd",
   "metadata": {},
   "outputs": [
    {
     "name": "stdout",
     "output_type": "stream",
     "text": [
      "value: 10\n",
      "correct\n"
     ]
    }
   ],
   "source": [
    " # print 'CORRECT' if i == 10\n",
    "    \n",
    "i = 10\n",
    "print(\"value: 10\")\n",
    "\n",
    "# Check if i equals 10\n",
    "\n",
    "if i==10:\n",
    "    print(\"correct\")"
   ]
  },
  {
   "cell_type": "code",
   "execution_count": 3,
   "id": "1af8b904",
   "metadata": {},
   "outputs": [
    {
     "name": "stdout",
     "output_type": "stream",
     "text": [
      "Enter the password: HOPE@123\n",
      "Your password is correct\n"
     ]
    }
   ],
   "source": [
    "# Check the password, using if and else\n",
    "\n",
    "# Expected password\n",
    "expected_password = \"HOPE@123\"\n",
    "\n",
    "# Get the password input from the user\n",
    "entered_password = input(\"Enter the password: \")\n",
    "\n",
    "if entered_password == expected_password:\n",
    "    print(\"Your password is correct\")\n",
    "else:\n",
    "    print(\"Incorrect password\")"
   ]
  },
  {
   "cell_type": "code",
   "execution_count": 13,
   "id": "7cd18fb0",
   "metadata": {},
   "outputs": [
    {
     "name": "stdout",
     "output_type": "stream",
     "text": [
      "Age: 20\n",
      "Adult\n"
     ]
    }
   ],
   "source": [
    "# Catagory the people by their age like children, adult, citizen, senior citizen...\n",
    "\n",
    "\n",
    "# Given age\n",
    "age = 20\n",
    "\n",
    "# Determine the category based on the age\n",
    "if age < 18:\n",
    "    category = \"Child\"\n",
    "elif age < 60:\n",
    "    category = \"Adult\"\n",
    "elif age < 100:\n",
    "    category = \"Senior Citizen\"\n",
    "else:\n",
    "    category = \"Invalid\"\n",
    "\n",
    "# Print the age and category\n",
    "print(f\"Age: {age}\")\n",
    "print(category)\n"
   ]
  },
  {
   "cell_type": "code",
   "execution_count": 19,
   "id": "42d5fbf1",
   "metadata": {},
   "outputs": [
    {
     "name": "stdout",
     "output_type": "stream",
     "text": [
      "Enter any number: 1\n",
      "No is positive\n"
     ]
    }
   ],
   "source": [
    "# Prompt the user to enter a number\n",
    "num = float(input(\"Enter any number: \"))\n",
    "\n",
    "# Check if the number is positive, negative, or zero\n",
    "if num > 0:\n",
    "    print(\"No is positive\")\n",
    "elif num < 0:\n",
    "    print(\"No is negative\")\n",
    "else:\n",
    "    print(\"No is zero\")\n"
   ]
  },
  {
   "cell_type": "code",
   "execution_count": 18,
   "id": "2a393969",
   "metadata": {},
   "outputs": [
    {
     "name": "stdout",
     "output_type": "stream",
     "text": [
      "Enter a number to check: 22\n",
      "Number is not divisible by 5\n"
     ]
    }
   ],
   "source": [
    "# Check whether the given number is divisible by 5\n",
    "\n",
    "# Prompt the user to enter a number\n",
    "number = int(input(\"Enter a number to check: \"))\n",
    "\n",
    "# Check if the number is divisible by 5\n",
    "if number % 5 == 0:\n",
    "    print(\"Number is divisible by 5\")\n",
    "else:\n",
    "    print(\"Number is not divisible by 5\")\n",
    "\n",
    "    \n",
    "    \n",
    "   \n",
    "        "
   ]
  },
  {
   "cell_type": "code",
   "execution_count": null,
   "id": "532639f8",
   "metadata": {},
   "outputs": [],
   "source": []
  }
 ],
 "metadata": {
  "kernelspec": {
   "display_name": "Python 3 (ipykernel)",
   "language": "python",
   "name": "python3"
  },
  "language_info": {
   "codemirror_mode": {
    "name": "ipython",
    "version": 3
   },
   "file_extension": ".py",
   "mimetype": "text/x-python",
   "name": "python",
   "nbconvert_exporter": "python",
   "pygments_lexer": "ipython3",
   "version": "3.9.13"
  }
 },
 "nbformat": 4,
 "nbformat_minor": 5
}
