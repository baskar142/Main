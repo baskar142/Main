{
 "cells": [
  {
   "cell_type": "code",
   "execution_count": 1,
   "id": "1d68a7b0",
   "metadata": {},
   "outputs": [],
   "source": [
    "def addition(a,b):\n",
    "    addition=a+b\n",
    "    return addition"
   ]
  },
  {
   "cell_type": "code",
   "execution_count": 2,
   "id": "d3637212",
   "metadata": {},
   "outputs": [
    {
     "data": {
      "text/plain": [
       "5444"
      ]
     },
     "execution_count": 2,
     "metadata": {},
     "output_type": "execute_result"
    }
   ],
   "source": [
    "addition(1111,4333)"
   ]
  },
  {
   "cell_type": "code",
   "execution_count": 16,
   "id": "dc993d14",
   "metadata": {},
   "outputs": [],
   "source": [
    "lists=[11,34,44,515]"
   ]
  },
  {
   "cell_type": "code",
   "execution_count": 17,
   "id": "36487928",
   "metadata": {},
   "outputs": [],
   "source": [
    "def AgeCategory():\n",
    "    for age in lists:\n",
    "        if (age < 18):\n",
    "            print (\"Child\")\n",
    "        elif (age < 60):\n",
    "            print (\"Adult\")\n",
    "        elif (age < 100):\n",
    "            print(\"Senior Citizen\")\n",
    "        else:\n",
    "            print(\"invalid\")\n",
    "   \n",
    "\n",
    "            \n",
    "      \n",
    "\n",
    "    "
   ]
  },
  {
   "cell_type": "code",
   "execution_count": 20,
   "id": "cb6b277c",
   "metadata": {},
   "outputs": [
    {
     "name": "stdout",
     "output_type": "stream",
     "text": [
      "Child\n",
      "Adult\n",
      "Adult\n",
      "invalid\n"
     ]
    }
   ],
   "source": [
    "AgeCategory()"
   ]
  },
  {
   "cell_type": "code",
   "execution_count": 45,
   "id": "7e361ce8",
   "metadata": {},
   "outputs": [
    {
     "name": "stdout",
     "output_type": "stream",
     "text": [
      "Enter the age:77\n"
     ]
    }
   ],
   "source": [
    "age = int(input(\"Enter the age:\"))"
   ]
  },
  {
   "cell_type": "code",
   "execution_count": 46,
   "id": "095515b8",
   "metadata": {},
   "outputs": [],
   "source": [
    "def AgeCategory():\n",
    "        if (age < 18):\n",
    "            print (\"Child\")\n",
    "            cate=\"CD\"\n",
    "        elif (age < 60):\n",
    "            print (\"Adult\")\n",
    "            cate=\"Adultonly\"\n",
    "        elif (age < 100):\n",
    "            print(\"Senior Citizen\")\n",
    "            cate=\"SO\"\n",
    "        else:\n",
    "            print(\"invalid\")\n",
    "            cate=\"IV\"\n",
    "        return cate"
   ]
  },
  {
   "cell_type": "code",
   "execution_count": 47,
   "id": "3a136694",
   "metadata": {},
   "outputs": [
    {
     "name": "stdout",
     "output_type": "stream",
     "text": [
      "Senior Citizen\n"
     ]
    },
    {
     "data": {
      "text/plain": [
       "'SO'"
      ]
     },
     "execution_count": 47,
     "metadata": {},
     "output_type": "execute_result"
    }
   ],
   "source": [
    "AgeCategory()"
   ]
  },
  {
   "cell_type": "code",
   "execution_count": 48,
   "id": "082fae09",
   "metadata": {},
   "outputs": [
    {
     "name": "stdout",
     "output_type": "stream",
     "text": [
      "Senior Citizen\n"
     ]
    }
   ],
   "source": [
    "ageCat=AgeCategory()"
   ]
  },
  {
   "cell_type": "code",
   "execution_count": 49,
   "id": "9943f746",
   "metadata": {},
   "outputs": [
    {
     "data": {
      "text/plain": [
       "'SO'"
      ]
     },
     "execution_count": 49,
     "metadata": {},
     "output_type": "execute_result"
    }
   ],
   "source": [
    "ageCat"
   ]
  },
  {
   "cell_type": "code",
   "execution_count": 50,
   "id": "d6ad16f7",
   "metadata": {},
   "outputs": [],
   "source": [
    "def AgeCategory():\n",
    "        if (age < 18):\n",
    "            print (\"Child\")\n",
    "            cate=\"CD\"\n",
    "        elif (age < 60):\n",
    "            print (\"Adult\")\n",
    "            cate=\"Adultonly\"\n",
    "        elif (age < 100):\n",
    "            print(\"Senior Citizen\")\n",
    "            cate=\"SO\"\n",
    "        else:\n",
    "            print(\"invalid\")\n",
    "            cate=\"IV\"\n",
    "        return cate"
   ]
  },
  {
   "cell_type": "code",
   "execution_count": 56,
   "id": "655e6fbe",
   "metadata": {},
   "outputs": [
    {
     "name": "stdout",
     "output_type": "stream",
     "text": [
      "Enter the age:2\n",
      "Child\n"
     ]
    },
    {
     "data": {
      "text/plain": [
       "'CD'"
      ]
     },
     "execution_count": 56,
     "metadata": {},
     "output_type": "execute_result"
    }
   ],
   "source": [
    "age = int(input(\"Enter the age:\"))\n",
    "ageCat=AgeCategory()\n",
    "ageCat"
   ]
  },
  {
   "cell_type": "code",
   "execution_count": 53,
   "id": "f20450a4",
   "metadata": {},
   "outputs": [
    {
     "data": {
      "text/plain": [
       "'CD'"
      ]
     },
     "execution_count": 53,
     "metadata": {},
     "output_type": "execute_result"
    }
   ],
   "source": [
    "ageCat"
   ]
  },
  {
   "cell_type": "code",
   "execution_count": 66,
   "id": "c3cc842c",
   "metadata": {},
   "outputs": [],
   "source": [
    "def AgeCategoryNor():\n",
    "        if (age < 18):\n",
    "            print (\"Child\")\n",
    "            cate=\"CD\"\n",
    "        elif (age < 60):\n",
    "            print (\"Adult\")\n",
    "            cate=\"Adultonly\"\n",
    "        elif (age > 100):\n",
    "            print(\"Senior Citizen\")\n",
    "            cate=\"SO\"\n",
    "        else:\n",
    "            print(\"invalid\")\n",
    "            cate=\"IV\"\n",
    "    "
   ]
  },
  {
   "cell_type": "code",
   "execution_count": 67,
   "id": "9c6550f4",
   "metadata": {},
   "outputs": [
    {
     "name": "stdout",
     "output_type": "stream",
     "text": [
      "Enter the age:101\n",
      "Senior Citizen\n"
     ]
    }
   ],
   "source": [
    "age = int(input(\"Enter the age:\"))\n",
    "ageCat=AgeCategoryNor()\n",
    "ageCat"
   ]
  },
  {
   "cell_type": "code",
   "execution_count": 61,
   "id": "c7796912",
   "metadata": {},
   "outputs": [
    {
     "name": "stdout",
     "output_type": "stream",
     "text": [
      "None\n"
     ]
    }
   ],
   "source": [
    "print(ageCat)"
   ]
  },
  {
   "cell_type": "code",
   "execution_count": 77,
   "id": "f5a0adb2",
   "metadata": {},
   "outputs": [],
   "source": [
    "def OddorEven():\n",
    "    num=int(input(\"enter the number:\"))\n",
    "    if ((num%2)==1):\n",
    "        print(\"odd number\")\n",
    "        message = \"odd number\"\n",
    "    else:\n",
    "        print(\"even number\")\n",
    "        message = \"even number\"\n",
    "    return message\n",
    "        \n",
    "    "
   ]
  },
  {
   "cell_type": "code",
   "execution_count": 83,
   "id": "79ae48b6",
   "metadata": {},
   "outputs": [
    {
     "name": "stdout",
     "output_type": "stream",
     "text": [
      "enter the number:2\n",
      "even number\n"
     ]
    }
   ],
   "source": [
    "message=OddorEven()"
   ]
  },
  {
   "cell_type": "code",
   "execution_count": 84,
   "id": "0e99bbce",
   "metadata": {},
   "outputs": [
    {
     "name": "stdout",
     "output_type": "stream",
     "text": [
      "The given number is even\n"
     ]
    }
   ],
   "source": [
    "if (message==\"even number\"):\n",
    "    print(\"The given number is even\")\n",
    "else:\n",
    "    print(\"The given number is odd\")"
   ]
  },
  {
   "cell_type": "code",
   "execution_count": null,
   "id": "95b743a0",
   "metadata": {},
   "outputs": [],
   "source": []
  },
  {
   "cell_type": "code",
   "execution_count": 85,
   "id": "3fcba495",
   "metadata": {},
   "outputs": [],
   "source": [
    "def OddorEven():\n",
    "    num=int(input(\"enter the number:\"))\n",
    "    if ((num%2)==1):\n",
    "        print(\"odd number\")\n",
    "        message = \"odd number\"\n",
    "    else:\n",
    "        print(\"even number\")\n",
    "        message = \"even number\"\n"
   ]
  },
  {
   "cell_type": "code",
   "execution_count": 86,
   "id": "9eb00bff",
   "metadata": {},
   "outputs": [
    {
     "name": "stdout",
     "output_type": "stream",
     "text": [
      "enter the number:3\n",
      "odd number\n"
     ]
    }
   ],
   "source": [
    "message=OddorEven()"
   ]
  },
  {
   "cell_type": "code",
   "execution_count": 87,
   "id": "e2eb550b",
   "metadata": {},
   "outputs": [
    {
     "name": "stdout",
     "output_type": "stream",
     "text": [
      "The given number is odd\n"
     ]
    }
   ],
   "source": [
    "if (message==\"even number\"):\n",
    "    print(\"The given number is even\")\n",
    "else:\n",
    "    print(\"The given number is odd\")"
   ]
  },
  {
   "cell_type": "code",
   "execution_count": 91,
   "id": "d4190cd1",
   "metadata": {},
   "outputs": [],
   "source": [
    "#non paramataraised function\n",
    "def BMI():    \n",
    "    BMI =int(input(\"Enter the BMI Index:\"))\n",
    "    if(BMI<18.5):\n",
    "        print(\"Underweight\")\n",
    "        message= \"UnderWeight\"\n",
    "    elif(18.5 <= BMI <= 24.9):\n",
    "        print(\"Normal\")\n",
    "        message= \"Normal\"\n",
    "    elif(25 <= BMI <= 29.9):\n",
    "        print(\"Overweight\")\n",
    "        message= \"Overweight\"\n",
    "    else:\n",
    "        print(\"Very Overweight\")\n",
    "        message= \"Very Overweight\""
   ]
  },
  {
   "cell_type": "code",
   "execution_count": 92,
   "id": "d42f1b96",
   "metadata": {},
   "outputs": [
    {
     "name": "stdout",
     "output_type": "stream",
     "text": [
      "Enter the BMI Index:35\n",
      "Very Overweight\n"
     ]
    }
   ],
   "source": [
    "bmi=BMI()"
   ]
  },
  {
   "cell_type": "code",
   "execution_count": 96,
   "id": "329cd256",
   "metadata": {},
   "outputs": [],
   "source": [
    "#parmaterized function or arguments\n",
    "def add(a,b):\n",
    "    c=a+b\n",
    "    return c"
   ]
  },
  {
   "cell_type": "code",
   "execution_count": 98,
   "id": "fbd26d06",
   "metadata": {},
   "outputs": [
    {
     "data": {
      "text/plain": [
       "3"
      ]
     },
     "execution_count": 98,
     "metadata": {},
     "output_type": "execute_result"
    }
   ],
   "source": [
    "add(1,2)"
   ]
  },
  {
   "cell_type": "code",
   "execution_count": 99,
   "id": "debbb229",
   "metadata": {},
   "outputs": [],
   "source": [
    "#parmaterized function or arguments\n",
    "def sub(a,b,c):\n",
    "    d=a-b-c\n",
    "    return d"
   ]
  },
  {
   "cell_type": "code",
   "execution_count": 100,
   "id": "367918fe",
   "metadata": {},
   "outputs": [
    {
     "data": {
      "text/plain": [
       "33"
      ]
     },
     "execution_count": 100,
     "metadata": {},
     "output_type": "execute_result"
    }
   ],
   "source": [
    "sub(122,34,55)"
   ]
  },
  {
   "cell_type": "code",
   "execution_count": 112,
   "id": "400781e2",
   "metadata": {},
   "outputs": [],
   "source": [
    "def SubfieldsInAI():\n",
    "    subfileds=[\"Machine Learning\",\"Neural Networks\",\"Vision\",\"Robotics\",\"Speech Processing\",\"Natural Language Processing\"]\n",
    "    for i in subfileds:\n",
    "        print(i)\n",
    "        return()\n"
   ]
  },
  {
   "cell_type": "code",
   "execution_count": 113,
   "id": "54526b94",
   "metadata": {},
   "outputs": [
    {
     "name": "stdout",
     "output_type": "stream",
     "text": [
      "Machine Learning\n"
     ]
    },
    {
     "data": {
      "text/plain": [
       "()"
      ]
     },
     "execution_count": 113,
     "metadata": {},
     "output_type": "execute_result"
    }
   ],
   "source": [
    "SubfieldsInAI()"
   ]
  },
  {
   "cell_type": "code",
   "execution_count": 120,
   "id": "de3b1ff3",
   "metadata": {},
   "outputs": [],
   "source": [
    "\n",
    "SubfieldsInAI=[\"Machine Learning\",\"Neural Networks\",\"Vision\",\"Robotics\",\"Speech Processing\",\"Natural Language Processing\"]\n",
    "\n",
    "      "
   ]
  },
  {
   "cell_type": "code",
   "execution_count": 124,
   "id": "783ab8a2",
   "metadata": {},
   "outputs": [],
   "source": [
    "def subfileds():\n",
    "    print(\"Sub-fields in AI are:\")\n",
    "    for subfiled in SubfieldsInAI:        \n",
    "        print(subfiled)"
   ]
  },
  {
   "cell_type": "code",
   "execution_count": 125,
   "id": "d80ae3e6",
   "metadata": {},
   "outputs": [
    {
     "name": "stdout",
     "output_type": "stream",
     "text": [
      "Sub-fields in AI are:\n",
      "Machine Learning\n",
      "Neural Networks\n",
      "Vision\n",
      "Robotics\n",
      "Speech Processing\n",
      "Natural Language Processing\n"
     ]
    }
   ],
   "source": [
    "subfileds()"
   ]
  },
  {
   "cell_type": "code",
   "execution_count": null,
   "id": "182abc21",
   "metadata": {},
   "outputs": [],
   "source": []
  }
 ],
 "metadata": {
  "kernelspec": {
   "display_name": "Python 3 (ipykernel)",
   "language": "python",
   "name": "python3"
  },
  "language_info": {
   "codemirror_mode": {
    "name": "ipython",
    "version": 3
   },
   "file_extension": ".py",
   "mimetype": "text/x-python",
   "name": "python",
   "nbconvert_exporter": "python",
   "pygments_lexer": "ipython3",
   "version": "3.9.13"
  }
 },
 "nbformat": 4,
 "nbformat_minor": 5
}
