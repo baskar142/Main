{
 "cells": [
  {
   "cell_type": "code",
   "execution_count": 1,
   "id": "4662c819",
   "metadata": {},
   "outputs": [
    {
     "ename": "ImportError",
     "evalue": "cannot import name 'BMISTAT' from 'BMISTAT' (C:\\New folder\\Hope AI\\Python\\BMISTAT.py)",
     "output_type": "error",
     "traceback": [
      "\u001b[1;31m---------------------------------------------------------------------------\u001b[0m",
      "\u001b[1;31mImportError\u001b[0m                               Traceback (most recent call last)",
      "\u001b[1;32m~\\AppData\\Local\\Temp\\ipykernel_24492\\2789507540.py\u001b[0m in \u001b[0;36m<module>\u001b[1;34m\u001b[0m\n\u001b[1;32m----> 1\u001b[1;33m \u001b[1;32mfrom\u001b[0m \u001b[0mBMISTAT\u001b[0m \u001b[1;32mimport\u001b[0m \u001b[0mBMISTAT\u001b[0m\u001b[1;33m\u001b[0m\u001b[1;33m\u001b[0m\u001b[0m\n\u001b[0m",
      "\u001b[1;31mImportError\u001b[0m: cannot import name 'BMISTAT' from 'BMISTAT' (C:\\New folder\\Hope AI\\Python\\BMISTAT.py)"
     ]
    }
   ],
   "source": [
    "from BMISTAT import BMISTAT "
   ]
  },
  {
   "cell_type": "code",
   "execution_count": 2,
   "id": "72824beb",
   "metadata": {},
   "outputs": [],
   "source": [
    "from multipleFunctions import MathOperations "
   ]
  },
  {
   "cell_type": "code",
   "execution_count": null,
   "id": "91bb1915",
   "metadata": {},
   "outputs": [],
   "source": [
    "class MathOperations:\n",
    "    @staticmethod\n",
    "    def calculate_bmi(weight, height):\n",
    "        return weight / (height ** 2)\n",
    "\n",
    "    @staticmethod\n",
    "    def is_even(number):\n",
    "        return number % 2 == 0\n",
    "\n",
    "def main():\n",
    "    weight = float(input(\"Enter your weight in kilograms: \"))\n",
    "    height = float(input(\"Enter your height in meters: \"))\n",
    "    number = int(input(\"Enter a number to check if it's even: \"))\n",
    "\n",
    "    bmi = MathOperations.calculate_bmi(weight, height)\n",
    "    even_or_odd = \"even\" if MathOperations.is_even(number) else \"odd\"\n",
    "\n",
    "\n"
   ]
  },
  {
   "cell_type": "code",
   "execution_count": null,
   "id": "cc9f3cb5",
   "metadata": {},
   "outputs": [],
   "source": []
  }
 ],
 "metadata": {
  "kernelspec": {
   "display_name": "Python 3 (ipykernel)",
   "language": "python",
   "name": "python3"
  },
  "language_info": {
   "codemirror_mode": {
    "name": "ipython",
    "version": 3
   },
   "file_extension": ".py",
   "mimetype": "text/x-python",
   "name": "python",
   "nbconvert_exporter": "python",
   "pygments_lexer": "ipython3",
   "version": "3.9.13"
  }
 },
 "nbformat": 4,
 "nbformat_minor": 5
}
