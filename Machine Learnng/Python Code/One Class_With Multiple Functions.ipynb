{
 "cells": [
  {
   "cell_type": "code",
   "execution_count": 3,
   "id": "4ac8b851",
   "metadata": {},
   "outputs": [],
   "source": [
    "from Class12 import multiplefunctions\n"
   ]
  },
  {
   "cell_type": "code",
   "execution_count": 5,
   "id": "89fcc488",
   "metadata": {},
   "outputs": [
    {
     "name": "stdout",
     "output_type": "stream",
     "text": [
      "Sub-fields in AI are:\n",
      "Machine Learning\n",
      "Sub-fields in AI are:\n",
      "Neural Networks\n",
      "Sub-fields in AI are:\n",
      "Vision\n",
      "Sub-fields in AI are:\n",
      "Robotics\n",
      "Sub-fields in AI are:\n",
      "Speech Processing\n",
      "Sub-fields in AI are:\n",
      "Natural Language Processing\n"
     ]
    }
   ],
   "source": [
    "multiplefunctions.Subfields()\n"
   ]
  },
  {
   "cell_type": "code",
   "execution_count": 8,
   "id": "52ebf705",
   "metadata": {},
   "outputs": [
    {
     "name": "stdout",
     "output_type": "stream",
     "text": [
      "Enter a number: 3\n"
     ]
    },
    {
     "data": {
      "text/plain": [
       "'3 is an odd number'"
      ]
     },
     "execution_count": 8,
     "metadata": {},
     "output_type": "execute_result"
    }
   ],
   "source": [
    "multiplefunctions.OddEven()"
   ]
  },
  {
   "cell_type": "code",
   "execution_count": 10,
   "id": "8015ac89",
   "metadata": {},
   "outputs": [
    {
     "name": "stdout",
     "output_type": "stream",
     "text": [
      "Your Gender: Male\n",
      "Your Age: 20\n"
     ]
    },
    {
     "data": {
      "text/plain": [
       "'NOT ELIGIBLE'"
      ]
     },
     "execution_count": 10,
     "metadata": {},
     "output_type": "execute_result"
    }
   ],
   "source": [
    "multiplefunctions.eligible()"
   ]
  },
  {
   "cell_type": "code",
   "execution_count": 11,
   "id": "00e1d3f8",
   "metadata": {},
   "outputs": [
    {
     "name": "stdout",
     "output_type": "stream",
     "text": [
      "Subject1= 98\n",
      "Subject2= 87\n",
      "Subject3= 95\n",
      "Subject4= 95\n",
      "Subject5= 93\n",
      "Total : 468\n",
      "Percentage : 93.60000000000001\n"
     ]
    }
   ],
   "source": [
    "multiplefunctions.percentage()"
   ]
  },
  {
   "cell_type": "code",
   "execution_count": 12,
   "id": "faae034d",
   "metadata": {},
   "outputs": [
    {
     "name": "stdout",
     "output_type": "stream",
     "text": [
      "Height: 32\n",
      "Breadth: 34\n",
      "Area of Triangle formula: (Height * Breadth) / 2\n",
      "Area of Triangle: 544.0\n"
     ]
    }
   ],
   "source": [
    "multiplefunctions.area_triangle()"
   ]
  },
  {
   "cell_type": "code",
   "execution_count": 13,
   "id": "820be672",
   "metadata": {},
   "outputs": [
    {
     "name": "stdout",
     "output_type": "stream",
     "text": [
      "height1: 2\n",
      "height2: 4\n",
      "breadth: 4\n",
      "Perimeter of Triangle formula: height1 + height2 + breadth\n",
      "Perimeter of Triangle: 10.0\n"
     ]
    }
   ],
   "source": [
    "multiplefunctions.perimeter_triangle()"
   ]
  },
  {
   "cell_type": "code",
   "execution_count": null,
   "id": "96a67ba4",
   "metadata": {},
   "outputs": [],
   "source": []
  }
 ],
 "metadata": {
  "kernelspec": {
   "display_name": "Python 3 (ipykernel)",
   "language": "python",
   "name": "python3"
  },
  "language_info": {
   "codemirror_mode": {
    "name": "ipython",
    "version": 3
   },
   "file_extension": ".py",
   "mimetype": "text/x-python",
   "name": "python",
   "nbconvert_exporter": "python",
   "pygments_lexer": "ipython3",
   "version": "3.9.13"
  }
 },
 "nbformat": 4,
 "nbformat_minor": 5
}
