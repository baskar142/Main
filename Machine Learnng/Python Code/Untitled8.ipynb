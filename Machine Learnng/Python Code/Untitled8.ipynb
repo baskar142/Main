{
 "cells": [
  {
   "cell_type": "code",
   "execution_count": 1,
   "id": "f013936e",
   "metadata": {},
   "outputs": [
    {
     "name": "stdout",
     "output_type": "stream",
     "text": [
      "Your Gender: 45\n",
      "Your Age: 34\n",
      "NOT ELIGIBLE\n"
     ]
    }
   ],
   "source": [
    "from FunctionCall4 import EligibilityForMarriage\n",
    "\n",
    "# Call the static method directly from the class\n",
    "result = EligibilityForMarriage.eligible()\n",
    "print(result)\n"
   ]
  },
  {
   "cell_type": "code",
   "execution_count": 3,
   "id": "52f198f8",
   "metadata": {},
   "outputs": [
    {
     "ename": "IndentationError",
     "evalue": "unexpected indent (functionCall6.py, line 1)",
     "output_type": "error",
     "traceback": [
      "Traceback \u001b[1;36m(most recent call last)\u001b[0m:\n",
      "  File \u001b[0;32m\"C:\\Users\\AB92922\\anaconda3\\lib\\site-packages\\IPython\\core\\interactiveshell.py\"\u001b[0m, line \u001b[0;32m3457\u001b[0m, in \u001b[0;35mrun_code\u001b[0m\n    exec(code_obj, self.user_global_ns, self.user_ns)\n",
      "\u001b[1;36m  File \u001b[1;32m\"C:\\Users\\AB92922\\AppData\\Local\\Temp\\ipykernel_24036\\2185477064.py\"\u001b[1;36m, line \u001b[1;32m1\u001b[1;36m, in \u001b[1;35m<module>\u001b[1;36m\u001b[0m\n\u001b[1;33m    from functionCall6 import FindPercent\u001b[0m\n",
      "\u001b[1;36m  File \u001b[1;32m\"C:\\New folder\\Hope AI\\Python\\functionCall6.py\"\u001b[1;36m, line \u001b[1;32m1\u001b[0m\n\u001b[1;33m    class FindPercent:\u001b[0m\n\u001b[1;37m    ^\u001b[0m\n\u001b[1;31mIndentationError\u001b[0m\u001b[1;31m:\u001b[0m unexpected indent\n"
     ]
    }
   ],
   "source": [
    "from functionCall6 import FindPercent"
   ]
  },
  {
   "cell_type": "code",
   "execution_count": null,
   "id": "88ef0739",
   "metadata": {},
   "outputs": [],
   "source": []
  }
 ],
 "metadata": {
  "kernelspec": {
   "display_name": "Python 3 (ipykernel)",
   "language": "python",
   "name": "python3"
  },
  "language_info": {
   "codemirror_mode": {
    "name": "ipython",
    "version": 3
   },
   "file_extension": ".py",
   "mimetype": "text/x-python",
   "name": "python",
   "nbconvert_exporter": "python",
   "pygments_lexer": "ipython3",
   "version": "3.9.13"
  }
 },
 "nbformat": 4,
 "nbformat_minor": 5
}
