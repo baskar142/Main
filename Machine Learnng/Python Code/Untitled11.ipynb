{
 "cells": [
  {
   "cell_type": "code",
   "execution_count": 1,
   "id": "5cb22a76",
   "metadata": {},
   "outputs": [],
   "source": [
    "  def Subfields():\n",
    "        SubfieldsInAI=[\"Machine Learning\",\"Neural Networks\",\"Vision\",\"Robotics\",\"Speech Processing\",\"Natural Language Processing\"]\n",
    "        for sub in SubfieldsInAI:\n",
    "            print(\"Sub-fields in AI are:\")\n",
    "            print(sub)"
   ]
  },
  {
   "cell_type": "code",
   "execution_count": 2,
   "id": "f2108713",
   "metadata": {},
   "outputs": [
    {
     "name": "stdout",
     "output_type": "stream",
     "text": [
      "Sub-fields in AI are:\n",
      "Machine Learning\n",
      "Sub-fields in AI are:\n",
      "Neural Networks\n",
      "Sub-fields in AI are:\n",
      "Vision\n",
      "Sub-fields in AI are:\n",
      "Robotics\n",
      "Sub-fields in AI are:\n",
      "Speech Processing\n",
      "Sub-fields in AI are:\n",
      "Natural Language Processing\n"
     ]
    }
   ],
   "source": [
    "Subfields()"
   ]
  },
  {
   "cell_type": "code",
   "execution_count": null,
   "id": "3a8f9c50",
   "metadata": {},
   "outputs": [],
   "source": []
  }
 ],
 "metadata": {
  "kernelspec": {
   "display_name": "Python 3 (ipykernel)",
   "language": "python",
   "name": "python3"
  },
  "language_info": {
   "codemirror_mode": {
    "name": "ipython",
    "version": 3
   },
   "file_extension": ".py",
   "mimetype": "text/x-python",
   "name": "python",
   "nbconvert_exporter": "python",
   "pygments_lexer": "ipython3",
   "version": "3.9.13"
  }
 },
 "nbformat": 4,
 "nbformat_minor": 5
}
