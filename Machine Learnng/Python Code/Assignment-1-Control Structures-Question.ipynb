{
 "cells": [
  {
   "cell_type": "markdown",
   "id": "16381007",
   "metadata": {},
   "source": [
    "## Assignment -1- Control Structures-Question"
   ]
  },
  {
   "cell_type": "code",
   "execution_count": 2,
   "id": "075e8f19",
   "metadata": {},
   "outputs": [
    {
     "name": "stdout",
     "output_type": "stream",
     "text": [
      "Welcome to Assignment-1\n"
     ]
    }
   ],
   "source": [
    "print(\"Welcome to Assignment-1\")"
   ]
  },
  {
   "cell_type": "code",
   "execution_count": null,
   "id": "a79bef16",
   "metadata": {},
   "outputs": [],
   "source": []
  },
  {
   "cell_type": "code",
   "execution_count": 5,
   "id": "3272ba3f",
   "metadata": {},
   "outputs": [
    {
     "name": "stdout",
     "output_type": "stream",
     "text": [
      "Num1= 10\n",
      "Num2= 30\n",
      "Add= 40\n"
     ]
    }
   ],
   "source": [
    "a=10\n",
    "b=30\n",
    "c=a+b\n",
    "\n",
    "print(\"Num1=\", a)\n",
    "print(\"Num2=\", b)\n",
    "print(\"Add=\", c)"
   ]
  },
  {
   "cell_type": "markdown",
   "id": "4b2234f4",
   "metadata": {},
   "source": [
    "#### Body Mass Index Calculation "
   ]
  },
  {
   "cell_type": "code",
   "execution_count": 1,
   "id": "632e5b8f",
   "metadata": {},
   "outputs": [
    {
     "name": "stdout",
     "output_type": "stream",
     "text": [
      "Enter the BMI Index:22\n",
      "adult\n"
     ]
    }
   ],
   "source": [
    "\n",
    "BMI =int(input(\"Enter the BMI Index:\"))\n",
    "\n",
    "if(BMI<18.5):\n",
    "    print(\"Underweight\")\n",
    "elif(18.5 <= BMI <= 24.9):\n",
    "    print(\"adult\")\n",
    "elif(25 <= BMI <= 29.9):\n",
    "    print(\"Overweight\")\n",
    "else:\n",
    "    print(\"Very Overweight\")"
   ]
  },
  {
   "cell_type": "code",
   "execution_count": null,
   "id": "a182afec",
   "metadata": {},
   "outputs": [],
   "source": []
  },
  {
   "cell_type": "code",
   "execution_count": null,
   "id": "1da82855",
   "metadata": {},
   "outputs": [],
   "source": []
  }
 ],
 "metadata": {
  "kernelspec": {
   "display_name": "Python 3 (ipykernel)",
   "language": "python",
   "name": "python3"
  },
  "language_info": {
   "codemirror_mode": {
    "name": "ipython",
    "version": 3
   },
   "file_extension": ".py",
   "mimetype": "text/x-python",
   "name": "python",
   "nbconvert_exporter": "python",
   "pygments_lexer": "ipython3",
   "version": "3.9.13"
  }
 },
 "nbformat": 4,
 "nbformat_minor": 5
}
