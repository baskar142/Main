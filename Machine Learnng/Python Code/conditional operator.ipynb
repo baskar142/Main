{
 "cells": [
  {
   "cell_type": "code",
   "execution_count": 12,
   "id": "8d410ed1",
   "metadata": {},
   "outputs": [
    {
     "name": "stdout",
     "output_type": "stream",
     "text": [
      "enter the age:18\n"
     ]
    }
   ],
   "source": [
    "age =int(input(\"enter the age:\"))"
   ]
  },
  {
   "cell_type": "code",
   "execution_count": 27,
   "id": "726a6eec",
   "metadata": {},
   "outputs": [],
   "source": [
    "\n"
   ]
  },
  {
   "cell_type": "code",
   "execution_count": 31,
   "id": "d21047c6",
   "metadata": {},
   "outputs": [
    {
     "name": "stdout",
     "output_type": "stream",
     "text": [
      "enter the age:18\n"
     ]
    }
   ],
   "source": [
    "age =int(input(\"enter the age:\"))"
   ]
  },
  {
   "cell_type": "code",
   "execution_count": 32,
   "id": "a42944f1",
   "metadata": {},
   "outputs": [
    {
     "name": "stdout",
     "output_type": "stream",
     "text": [
      "adult\n"
     ]
    }
   ],
   "source": [
    "if(age==18):\n",
    "    print(\"adult\")"
   ]
  },
  {
   "cell_type": "code",
   "execution_count": 33,
   "id": "dda98792",
   "metadata": {},
   "outputs": [
    {
     "ename": "IndentationError",
     "evalue": "expected an indented block (3023049706.py, line 4)",
     "output_type": "error",
     "traceback": [
      "\u001b[1;36m  File \u001b[1;32m\"C:\\Users\\AB92922\\AppData\\Local\\Temp\\ipykernel_8636\\3023049706.py\"\u001b[1;36m, line \u001b[1;32m4\u001b[0m\n\u001b[1;33m    \u001b[0m\n\u001b[1;37m    ^\u001b[0m\n\u001b[1;31mIndentationError\u001b[0m\u001b[1;31m:\u001b[0m expected an indented block\n"
     ]
    }
   ],
   "source": [
    "if():\n",
    "    print()\n",
    "else:\n",
    "    "
   ]
  },
  {
   "cell_type": "code",
   "execution_count": 34,
   "id": "e9a6f2bd",
   "metadata": {},
   "outputs": [
    {
     "ename": "IndentationError",
     "evalue": "expected an indented block (542781814.py, line 2)",
     "output_type": "error",
     "traceback": [
      "\u001b[1;36m  File \u001b[1;32m\"C:\\Users\\AB92922\\AppData\\Local\\Temp\\ipykernel_8636\\542781814.py\"\u001b[1;36m, line \u001b[1;32m2\u001b[0m\n\u001b[1;33m    \u001b[0m\n\u001b[1;37m    ^\u001b[0m\n\u001b[1;31mIndentationError\u001b[0m\u001b[1;31m:\u001b[0m expected an indented block\n"
     ]
    }
   ],
   "source": [
    "for temp in range(1,10):\n",
    "    "
   ]
  },
  {
   "cell_type": "code",
   "execution_count": 35,
   "id": "d852dd2c",
   "metadata": {},
   "outputs": [
    {
     "ename": "SyntaxError",
     "evalue": "invalid syntax (551333479.py, line 1)",
     "output_type": "error",
     "traceback": [
      "\u001b[1;36m  File \u001b[1;32m\"C:\\Users\\AB92922\\AppData\\Local\\Temp\\ipykernel_8636\\551333479.py\"\u001b[1;36m, line \u001b[1;32m1\u001b[0m\n\u001b[1;33m    def:\u001b[0m\n\u001b[1;37m       ^\u001b[0m\n\u001b[1;31mSyntaxError\u001b[0m\u001b[1;31m:\u001b[0m invalid syntax\n"
     ]
    }
   ],
   "source": [
    "def:\n",
    "    "
   ]
  },
  {
   "cell_type": "code",
   "execution_count": 36,
   "id": "ef94f9c4",
   "metadata": {},
   "outputs": [],
   "source": [
    "#if-else"
   ]
  },
  {
   "cell_type": "code",
   "execution_count": 37,
   "id": "53600378",
   "metadata": {},
   "outputs": [
    {
     "ename": "SyntaxError",
     "evalue": "invalid syntax (2612546778.py, line 1)",
     "output_type": "error",
     "traceback": [
      "\u001b[1;36m  File \u001b[1;32m\"C:\\Users\\AB92922\\AppData\\Local\\Temp\\ipykernel_8636\\2612546778.py\"\u001b[1;36m, line \u001b[1;32m1\u001b[0m\n\u001b[1;33m    if:\u001b[0m\n\u001b[1;37m      ^\u001b[0m\n\u001b[1;31mSyntaxError\u001b[0m\u001b[1;31m:\u001b[0m invalid syntax\n"
     ]
    }
   ],
   "source": [
    "if:\n",
    "    print()\n",
    "else:\n",
    "    print()"
   ]
  },
  {
   "cell_type": "code",
   "execution_count": 45,
   "id": "58d01231",
   "metadata": {},
   "outputs": [
    {
     "name": "stdout",
     "output_type": "stream",
     "text": [
      "adult\n"
     ]
    }
   ],
   "source": [
    "if(age<18):\n",
    "    print(\"childern\")\n",
    "else:\n",
    "    print(\"adult\")\n",
    "    "
   ]
  },
  {
   "cell_type": "code",
   "execution_count": 51,
   "id": "50afe0fe",
   "metadata": {},
   "outputs": [
    {
     "name": "stdout",
     "output_type": "stream",
     "text": [
      "enter the age:70\n"
     ]
    }
   ],
   "source": [
    "age =int(input(\"enter the age:\"))"
   ]
  },
  {
   "cell_type": "code",
   "execution_count": null,
   "id": "5b57a6b3",
   "metadata": {},
   "outputs": [],
   "source": []
  },
  {
   "cell_type": "code",
   "execution_count": 49,
   "id": "83bfc835",
   "metadata": {},
   "outputs": [
    {
     "name": "stdout",
     "output_type": "stream",
     "text": [
      "\n"
     ]
    }
   ],
   "source": [
    "if():\n",
    "    print()\n",
    "elif():\n",
    "    print()\n",
    "elif():\n",
    "    print()\n",
    "else:\n",
    "    print()"
   ]
  },
  {
   "cell_type": "code",
   "execution_count": 62,
   "id": "c6f97feb",
   "metadata": {},
   "outputs": [
    {
     "name": "stdout",
     "output_type": "stream",
     "text": [
      "adult\n"
     ]
    }
   ],
   "source": [
    "if(age<18):\n",
    "    print(\"childern\")\n",
    "elif(age<35):\n",
    "    print(\"adult\")\n",
    "elif(age<59):\n",
    "    print(\"citizen\")\n",
    "else:\n",
    "    print(\"senior citizen\")"
   ]
  },
  {
   "cell_type": "code",
   "execution_count": 61,
   "id": "a4ab2874",
   "metadata": {},
   "outputs": [
    {
     "name": "stdout",
     "output_type": "stream",
     "text": [
      "enter the age:29\n"
     ]
    }
   ],
   "source": [
    "age =int(input(\"enter the age:\"))"
   ]
  },
  {
   "cell_type": "code",
   "execution_count": 64,
   "id": "d4bc27cd",
   "metadata": {},
   "outputs": [
    {
     "name": "stdout",
     "output_type": "stream",
     "text": [
      "12.13\n",
      "56\n",
      "66\n",
      "77\n",
      "88\n"
     ]
    }
   ],
   "source": [
    "lists = [12.13,56,66,77,88]\n",
    "\n",
    "for temp in lists:\n",
    "    print(temp)"
   ]
  },
  {
   "cell_type": "code",
   "execution_count": 67,
   "id": "bb58e6f6",
   "metadata": {},
   "outputs": [
    {
     "name": "stdout",
     "output_type": "stream",
     "text": [
      "12.13\n",
      "56\n",
      "66\n",
      "77\n",
      "88\n"
     ]
    }
   ],
   "source": [
    "for age in lists:\n",
    "    print(age)\n",
    "    "
   ]
  },
  {
   "cell_type": "code",
   "execution_count": 75,
   "id": "cbc9aa52",
   "metadata": {},
   "outputs": [
    {
     "name": "stdout",
     "output_type": "stream",
     "text": [
      "childern\n",
      "adult\n",
      "senior citizen\n",
      "childern\n",
      "senior citizen\n"
     ]
    }
   ],
   "source": [
    "for age in lists:\n",
    "    if(age<18):\n",
    "        print(\"childern\")\n",
    "    elif(age<35):\n",
    "        print(\"adult\")\n",
    "    elif(age<59):\n",
    "        print(\"citizen\")\n",
    "    else:\n",
    "        print(\"senior citizen\") \n",
    "\n",
    "    \n",
    "\n",
    "    "
   ]
  },
  {
   "cell_type": "code",
   "execution_count": 74,
   "id": "da386a28",
   "metadata": {},
   "outputs": [],
   "source": [
    "lists = [5,34,66,5,88]"
   ]
  },
  {
   "cell_type": "code",
   "execution_count": 78,
   "id": "c8f4c37c",
   "metadata": {},
   "outputs": [
    {
     "name": "stdout",
     "output_type": "stream",
     "text": [
      "enter the number8\n",
      "even\n"
     ]
    }
   ],
   "source": [
    "num=int(input(\"enter the number\"))\n",
    "if ((num%2) ==0):\n",
    "    print(\"even\")\n",
    "else:\n",
    "    print(\"odd number\")"
   ]
  },
  {
   "cell_type": "code",
   "execution_count": 81,
   "id": "b422f950",
   "metadata": {},
   "outputs": [
    {
     "data": {
      "text/plain": [
       "range(0, 10)"
      ]
     },
     "execution_count": 81,
     "metadata": {},
     "output_type": "execute_result"
    }
   ],
   "source": [
    "range(0,10)\n",
    "  "
   ]
  },
  {
   "cell_type": "code",
   "execution_count": 82,
   "id": "be0bbea3",
   "metadata": {},
   "outputs": [
    {
     "name": "stdout",
     "output_type": "stream",
     "text": [
      "range(0, 10)\n"
     ]
    }
   ],
   "source": [
    "print(range(0,10))"
   ]
  },
  {
   "cell_type": "code",
   "execution_count": 85,
   "id": "4faeb562",
   "metadata": {},
   "outputs": [
    {
     "name": "stdout",
     "output_type": "stream",
     "text": [
      "0\n",
      "1\n",
      "2\n",
      "3\n",
      "4\n",
      "5\n",
      "6\n",
      "7\n",
      "8\n",
      "9\n"
     ]
    }
   ],
   "source": [
    "for num in range(0,10):\n",
    "            print(num)"
   ]
  },
  {
   "cell_type": "code",
   "execution_count": 86,
   "id": "23646c87",
   "metadata": {},
   "outputs": [
    {
     "name": "stdout",
     "output_type": "stream",
     "text": [
      "9\n"
     ]
    }
   ],
   "source": [
    "print(num)"
   ]
  },
  {
   "cell_type": "code",
   "execution_count": 87,
   "id": "8bde8d35",
   "metadata": {},
   "outputs": [
    {
     "name": "stdout",
     "output_type": "stream",
     "text": [
      "5\n",
      "6\n",
      "7\n",
      "8\n",
      "9\n"
     ]
    }
   ],
   "source": [
    "for num in range(5,10):\n",
    "            print(num)"
   ]
  },
  {
   "cell_type": "code",
   "execution_count": 88,
   "id": "e73ff55e",
   "metadata": {},
   "outputs": [
    {
     "name": "stdout",
     "output_type": "stream",
     "text": [
      "5\n",
      "10\n",
      "15\n",
      "20\n",
      "25\n",
      "30\n",
      "35\n",
      "40\n",
      "45\n",
      "50\n",
      "55\n",
      "60\n",
      "65\n",
      "70\n",
      "75\n",
      "80\n",
      "85\n",
      "90\n",
      "95\n"
     ]
    }
   ],
   "source": [
    "for num in range(5,100,5):\n",
    "            print(num)"
   ]
  },
  {
   "cell_type": "code",
   "execution_count": 90,
   "id": "0e7759ee",
   "metadata": {},
   "outputs": [
    {
     "name": "stdout",
     "output_type": "stream",
     "text": [
      "5\n",
      "15\n",
      "25\n",
      "35\n",
      "45\n",
      "55\n",
      "65\n",
      "75\n",
      "85\n",
      "95\n"
     ]
    }
   ],
   "source": [
    "for num in range(5,100,10):\n",
    "            print(num)"
   ]
  },
  {
   "cell_type": "code",
   "execution_count": null,
   "id": "2ef52bf2",
   "metadata": {},
   "outputs": [],
   "source": []
  }
 ],
 "metadata": {
  "kernelspec": {
   "display_name": "Python 3 (ipykernel)",
   "language": "python",
   "name": "python3"
  },
  "language_info": {
   "codemirror_mode": {
    "name": "ipython",
    "version": 3
   },
   "file_extension": ".py",
   "mimetype": "text/x-python",
   "name": "python",
   "nbconvert_exporter": "python",
   "pygments_lexer": "ipython3",
   "version": "3.9.13"
  }
 },
 "nbformat": 4,
 "nbformat_minor": 5
}
