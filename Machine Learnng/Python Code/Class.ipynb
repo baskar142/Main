{
 "cells": [
  {
   "cell_type": "code",
   "execution_count": 3,
   "id": "d26aba4e",
   "metadata": {},
   "outputs": [],
   "source": [
    "class calc:\n",
    "    def add(a,b):\n",
    "        add=a+b\n",
    "        return add"
   ]
  },
  {
   "cell_type": "code",
   "execution_count": 6,
   "id": "e33be399",
   "metadata": {},
   "outputs": [],
   "source": [
    "sum =calc.add(1,2)"
   ]
  },
  {
   "cell_type": "code",
   "execution_count": 8,
   "id": "f1f2ad9f",
   "metadata": {},
   "outputs": [
    {
     "name": "stdout",
     "output_type": "stream",
     "text": [
      "sum: 3\n"
     ]
    }
   ],
   "source": [
    "print(\"sum:\",sum)"
   ]
  },
  {
   "cell_type": "code",
   "execution_count": null,
   "id": "065edebe",
   "metadata": {},
   "outputs": [],
   "source": [
    "class name.function name(syntax)"
   ]
  },
  {
   "cell_type": "code",
   "execution_count": null,
   "id": "e768fecb",
   "metadata": {},
   "outputs": [],
   "source": []
  },
  {
   "cell_type": "code",
   "execution_count": null,
   "id": "5a52ec36",
   "metadata": {},
   "outputs": [],
   "source": [
    "class multipleFunctions():\n",
    "    "
   ]
  },
  {
   "cell_type": "code",
   "execution_count": null,
   "id": "9e9b2f90",
   "metadata": {},
   "outputs": [],
   "source": []
  },
  {
   "cell_type": "code",
   "execution_count": null,
   "id": "a7abb44b",
   "metadata": {},
   "outputs": [],
   "source": []
  },
  {
   "cell_type": "code",
   "execution_count": 28,
   "id": "621b0899",
   "metadata": {},
   "outputs": [],
   "source": [
    "class SubfieldsInAI:\n",
    "     def Subfields():\n",
    "            SubfieldsInAI=[\"Machine Learning\",\"Neural Networks\",\"Vision\",\"Robotics\",\"Speech Processing\",\"Natural Language Processing\"]\n",
    "            print(\"Sub-fields in AI are:\")\n",
    "            for sub in SubfieldsInAI:\n",
    "                 print(sub)\n",
    "        "
   ]
  },
  {
   "cell_type": "code",
   "execution_count": 29,
   "id": "678f4d7a",
   "metadata": {},
   "outputs": [
    {
     "name": "stdout",
     "output_type": "stream",
     "text": [
      "Sub-fields in AI are:\n",
      "Machine Learning\n",
      "Neural Networks\n",
      "Vision\n",
      "Robotics\n",
      "Speech Processing\n",
      "Natural Language Processing\n"
     ]
    }
   ],
   "source": [
    "SubfieldsInAI.Subfields()"
   ]
  },
  {
   "cell_type": "code",
   "execution_count": null,
   "id": "9fb05fea",
   "metadata": {},
   "outputs": [],
   "source": []
  },
  {
   "cell_type": "code",
   "execution_count": 30,
   "id": "12881bb0",
   "metadata": {},
   "outputs": [],
   "source": [
    "from SubfieldsInAI import SubfieldsInAI"
   ]
  },
  {
   "cell_type": "code",
   "execution_count": 32,
   "id": "7d5b3807",
   "metadata": {},
   "outputs": [
    {
     "ename": "AttributeError",
     "evalue": "type object 'SubfieldsInAI' has no attribute 'SubfieldsInAI'",
     "output_type": "error",
     "traceback": [
      "\u001b[1;31m---------------------------------------------------------------------------\u001b[0m",
      "\u001b[1;31mAttributeError\u001b[0m                            Traceback (most recent call last)",
      "\u001b[1;32m~\\AppData\\Local\\Temp\\ipykernel_12296\\3696133980.py\u001b[0m in \u001b[0;36m<module>\u001b[1;34m\u001b[0m\n\u001b[1;32m----> 1\u001b[1;33m \u001b[0mSubfieldsInAI\u001b[0m\u001b[1;33m.\u001b[0m\u001b[0mSubfieldsInAI\u001b[0m\u001b[1;33m(\u001b[0m\u001b[1;33m)\u001b[0m\u001b[1;33m\u001b[0m\u001b[1;33m\u001b[0m\u001b[0m\n\u001b[0m",
      "\u001b[1;31mAttributeError\u001b[0m: type object 'SubfieldsInAI' has no attribute 'SubfieldsInAI'"
     ]
    }
   ],
   "source": [
    "SubfieldsInAI.SubfieldsInAI()"
   ]
  },
  {
   "cell_type": "code",
   "execution_count": 33,
   "id": "e216a25d",
   "metadata": {},
   "outputs": [],
   "source": [
    "from SubfieldsInAI import SubfieldsInAI"
   ]
  },
  {
   "cell_type": "code",
   "execution_count": 34,
   "id": "8ec89222",
   "metadata": {},
   "outputs": [
    {
     "name": "stdout",
     "output_type": "stream",
     "text": [
      "Sub-fields in AI are:\n"
     ]
    },
    {
     "ename": "TypeError",
     "evalue": "'type' object is not iterable",
     "output_type": "error",
     "traceback": [
      "\u001b[1;31m---------------------------------------------------------------------------\u001b[0m",
      "\u001b[1;31mTypeError\u001b[0m                                 Traceback (most recent call last)",
      "\u001b[1;32m~\\AppData\\Local\\Temp\\ipykernel_12296\\3677820303.py\u001b[0m in \u001b[0;36m<module>\u001b[1;34m\u001b[0m\n\u001b[1;32m----> 1\u001b[1;33m \u001b[0mSubfieldsInAI\u001b[0m\u001b[1;33m.\u001b[0m\u001b[0mSubfields\u001b[0m\u001b[1;33m(\u001b[0m\u001b[1;33m)\u001b[0m\u001b[1;33m\u001b[0m\u001b[1;33m\u001b[0m\u001b[0m\n\u001b[0m",
      "\u001b[1;32mC:\\New folder\\Hope AI\\Python\\SubfieldsInAI.py\u001b[0m in \u001b[0;36mSubfields\u001b[1;34m()\u001b[0m\n\u001b[0;32m      2\u001b[0m      \u001b[1;32mdef\u001b[0m \u001b[0mSubfields\u001b[0m\u001b[1;33m(\u001b[0m\u001b[1;33m)\u001b[0m\u001b[1;33m:\u001b[0m\u001b[1;33m\u001b[0m\u001b[1;33m\u001b[0m\u001b[0m\n\u001b[0;32m      3\u001b[0m             \u001b[0mSubfieldsInAI\u001b[0m\u001b[1;33m=\u001b[0m\u001b[1;33m[\u001b[0m\u001b[1;34m\"Machine Learning\"\u001b[0m\u001b[1;33m,\u001b[0m\u001b[1;34m\"Neural Networks\"\u001b[0m\u001b[1;33m,\u001b[0m\u001b[1;34m\"Vision\"\u001b[0m\u001b[1;33m,\u001b[0m\u001b[1;34m\"Robotics\"\u001b[0m\u001b[1;33m,\u001b[0m\u001b[1;34m\"Speech Processing\"\u001b[0m\u001b[1;33m,\u001b[0m\u001b[1;34m\"Natural Language Processing\"\u001b[0m\u001b[1;33m]\u001b[0m\u001b[1;33m\u001b[0m\u001b[1;33m\u001b[0m\u001b[0m\n\u001b[1;32m----> 4\u001b[1;33m             \u001b[0mprint\u001b[0m\u001b[1;33m(\u001b[0m\u001b[1;34m\"Sub-fields in AI are:\"\u001b[0m\u001b[1;33m)\u001b[0m\u001b[1;33m\u001b[0m\u001b[1;33m\u001b[0m\u001b[0m\n\u001b[0m\u001b[0;32m      5\u001b[0m             \u001b[1;32mfor\u001b[0m \u001b[0msub\u001b[0m \u001b[1;32min\u001b[0m \u001b[0mSubfieldsInAI\u001b[0m\u001b[1;33m:\u001b[0m\u001b[1;33m\u001b[0m\u001b[1;33m\u001b[0m\u001b[0m\n\u001b[0;32m      6\u001b[0m                  \u001b[0mprint\u001b[0m\u001b[1;33m(\u001b[0m\u001b[0msub\u001b[0m\u001b[1;33m)\u001b[0m\u001b[1;33m\u001b[0m\u001b[1;33m\u001b[0m\u001b[0m\n",
      "\u001b[1;31mTypeError\u001b[0m: 'type' object is not iterable"
     ]
    }
   ],
   "source": [
    "SubfieldsInAI.Subfields()"
   ]
  },
  {
   "cell_type": "code",
   "execution_count": 35,
   "id": "0b7f57fd",
   "metadata": {},
   "outputs": [],
   "source": [
    "class SubfieldsInAI:\n",
    "     def Subfields():\n",
    "            SubfieldsInAI=[\"Machine Learning\",\"Neural Networks\",\"Vision\",\"Robotics\",\"Speech Processing\",\"Natural Language Processing\"]\n",
    "            print(\"Sub-fields in AI are:\")\n",
    "            for sub in SubfieldsInAI:\n",
    "                 print(sub)\n",
    "        "
   ]
  },
  {
   "cell_type": "code",
   "execution_count": 36,
   "id": "fcb59768",
   "metadata": {},
   "outputs": [
    {
     "name": "stdout",
     "output_type": "stream",
     "text": [
      "Sub-fields in AI are:\n",
      "Machine Learning\n",
      "Neural Networks\n",
      "Vision\n",
      "Robotics\n",
      "Speech Processing\n",
      "Natural Language Processing\n"
     ]
    }
   ],
   "source": [
    "SubfieldsInAI.Subfields()"
   ]
  },
  {
   "cell_type": "code",
   "execution_count": 37,
   "id": "730ccf21",
   "metadata": {},
   "outputs": [],
   "source": [
    "from FunctionCall1 import SubfieldsInAI"
   ]
  },
  {
   "cell_type": "code",
   "execution_count": 38,
   "id": "1af4f89c",
   "metadata": {},
   "outputs": [
    {
     "name": "stdout",
     "output_type": "stream",
     "text": [
      "Sub-fields in AI are:\n",
      "Machine Learning\n",
      "Neural Networks\n",
      "Vision\n",
      "Robotics\n",
      "Speech Processing\n",
      "Natural Language Processing\n"
     ]
    }
   ],
   "source": [
    "SubfieldsInAI.Subfields()"
   ]
  },
  {
   "cell_type": "code",
   "execution_count": 39,
   "id": "7506146e",
   "metadata": {},
   "outputs": [
    {
     "name": "stdout",
     "output_type": "stream",
     "text": [
      "Enter a number: 33\n",
      "33 is an odd number\n"
     ]
    }
   ],
   "source": [
    "class OddEven:\n",
    "    def OddEven():\n",
    "        if number % 2 == 0:\n",
    "            return f\"{number} is an even number\"\n",
    "        else:\n",
    "            return f\"{number} is an odd number\"  \n",
    "        \n",
    "number = int(input(\"Enter a number: \"))\n",
    "result = OddEven.OddEven()\n",
    "print(result)"
   ]
  },
  {
   "cell_type": "code",
   "execution_count": 40,
   "id": "089c48b7",
   "metadata": {},
   "outputs": [],
   "source": [
    "class OddEven:\n",
    "    def OddEven():\n",
    "        number = int(input(\"Enter a number: \"))\n",
    "        if number % 2 == 0:\n",
    "            return f\"{number} is an even number\"\n",
    "        else:\n",
    "            return f\"{number} is an odd number\" "
   ]
  },
  {
   "cell_type": "code",
   "execution_count": 41,
   "id": "e5a33959",
   "metadata": {},
   "outputs": [
    {
     "name": "stdout",
     "output_type": "stream",
     "text": [
      "Enter a number: 34\n"
     ]
    },
    {
     "data": {
      "text/plain": [
       "'34 is an even number'"
      ]
     },
     "execution_count": 41,
     "metadata": {},
     "output_type": "execute_result"
    }
   ],
   "source": [
    "OddEven.OddEven()"
   ]
  },
  {
   "cell_type": "code",
   "execution_count": 47,
   "id": "aab8db97",
   "metadata": {},
   "outputs": [],
   "source": [
    "from FunctionCall3 import OddEven"
   ]
  },
  {
   "cell_type": "code",
   "execution_count": 48,
   "id": "05e48854",
   "metadata": {},
   "outputs": [
    {
     "name": "stdout",
     "output_type": "stream",
     "text": [
      "Enter a number: 34\n"
     ]
    },
    {
     "data": {
      "text/plain": [
       "'34 is an even number'"
      ]
     },
     "execution_count": 48,
     "metadata": {},
     "output_type": "execute_result"
    }
   ],
   "source": [
    "OddEven.check_even_odd()"
   ]
  },
  {
   "cell_type": "code",
   "execution_count": 45,
   "id": "e5d37d0a",
   "metadata": {},
   "outputs": [
    {
     "name": "stdout",
     "output_type": "stream",
     "text": [
      "Enter a number: 34\n",
      "34 is an even number\n"
     ]
    }
   ],
   "source": [
    "class OddEven:\n",
    "    @staticmethod\n",
    "    def check_even_odd():\n",
    "        number = int(input(\"Enter a number: \"))\n",
    "        if number % 2 == 0:\n",
    "            return f\"{number} is an even number\"\n",
    "        else:\n",
    "            return f\"{number} is an odd number\"\n",
    "\n",
    "result = OddEven.check_even_odd()\n",
    "print(result)"
   ]
  },
  {
   "cell_type": "code",
   "execution_count": 51,
   "id": "9b63490b",
   "metadata": {},
   "outputs": [
    {
     "ename": "NameError",
     "evalue": "name 'height1' is not defined",
     "output_type": "error",
     "traceback": [
      "\u001b[1;31m---------------------------------------------------------------------------\u001b[0m",
      "\u001b[1;31mNameError\u001b[0m                                 Traceback (most recent call last)",
      "\u001b[1;32m~\\AppData\\Local\\Temp\\ipykernel_12296\\799214931.py\u001b[0m in \u001b[0;36m<module>\u001b[1;34m\u001b[0m\n\u001b[1;32m----> 1\u001b[1;33m \u001b[1;32mclass\u001b[0m \u001b[0mTriangle\u001b[0m\u001b[1;33m:\u001b[0m\u001b[1;33m\u001b[0m\u001b[1;33m\u001b[0m\u001b[0m\n\u001b[0m\u001b[0;32m      2\u001b[0m     \u001b[1;32mdef\u001b[0m \u001b[0mAreaTriangle\u001b[0m\u001b[1;33m(\u001b[0m\u001b[0mself\u001b[0m\u001b[1;33m)\u001b[0m\u001b[1;33m:\u001b[0m\u001b[1;33m\u001b[0m\u001b[1;33m\u001b[0m\u001b[0m\n\u001b[0;32m      3\u001b[0m         \u001b[0mheight\u001b[0m \u001b[1;33m=\u001b[0m \u001b[0mint\u001b[0m\u001b[1;33m(\u001b[0m\u001b[0minput\u001b[0m\u001b[1;33m(\u001b[0m\u001b[1;34m\"Height: \"\u001b[0m\u001b[1;33m)\u001b[0m\u001b[1;33m)\u001b[0m\u001b[1;33m\u001b[0m\u001b[1;33m\u001b[0m\u001b[0m\n\u001b[0;32m      4\u001b[0m         \u001b[0mbreadth\u001b[0m \u001b[1;33m=\u001b[0m \u001b[0mint\u001b[0m\u001b[1;33m(\u001b[0m\u001b[0minput\u001b[0m\u001b[1;33m(\u001b[0m\u001b[1;34m\"Breadth: \"\u001b[0m\u001b[1;33m)\u001b[0m\u001b[1;33m)\u001b[0m\u001b[1;33m\u001b[0m\u001b[1;33m\u001b[0m\u001b[0m\n\u001b[0;32m      5\u001b[0m \u001b[1;33m\u001b[0m\u001b[0m\n",
      "\u001b[1;32m~\\AppData\\Local\\Temp\\ipykernel_12296\\799214931.py\u001b[0m in \u001b[0;36mTriangle\u001b[1;34m()\u001b[0m\n\u001b[0;32m     14\u001b[0m         \u001b[0mbreadth\u001b[0m \u001b[1;33m=\u001b[0m \u001b[0mint\u001b[0m\u001b[1;33m(\u001b[0m\u001b[0minput\u001b[0m\u001b[1;33m(\u001b[0m\u001b[1;34m\"Breadth: \"\u001b[0m\u001b[1;33m)\u001b[0m\u001b[1;33m)\u001b[0m\u001b[1;33m\u001b[0m\u001b[1;33m\u001b[0m\u001b[0m\n\u001b[0;32m     15\u001b[0m \u001b[1;33m\u001b[0m\u001b[0m\n\u001b[1;32m---> 16\u001b[1;33m     \u001b[0mperimeter_of_triangle\u001b[0m \u001b[1;33m=\u001b[0m \u001b[0mheight1\u001b[0m \u001b[1;33m+\u001b[0m \u001b[0mheight2\u001b[0m \u001b[1;33m+\u001b[0m \u001b[0mbreadth\u001b[0m\u001b[1;33m\u001b[0m\u001b[1;33m\u001b[0m\u001b[0m\n\u001b[0m\u001b[0;32m     17\u001b[0m     \u001b[0mprint\u001b[0m\u001b[1;33m(\u001b[0m\u001b[1;34m\"Perimeter of Triangle formula: Height1 + Height2 + Breadth\"\u001b[0m\u001b[1;33m)\u001b[0m\u001b[1;33m\u001b[0m\u001b[1;33m\u001b[0m\u001b[0m\n\u001b[0;32m     18\u001b[0m     \u001b[0mprint\u001b[0m\u001b[1;33m(\u001b[0m\u001b[1;34m\"Perimeter of Triangle:\"\u001b[0m\u001b[1;33m,\u001b[0m \u001b[0mperimeter_of_triangle\u001b[0m\u001b[1;33m)\u001b[0m\u001b[1;33m\u001b[0m\u001b[1;33m\u001b[0m\u001b[0m\n",
      "\u001b[1;31mNameError\u001b[0m: name 'height1' is not defined"
     ]
    }
   ],
   "source": [
    "class Triangle:\n",
    "    def AreaTriangle(self):\n",
    "        height = int(input(\"Height: \"))\n",
    "        breadth = int(input(\"Breadth: \"))\n",
    "\n",
    "        area_of_triangle = (height * breadth) / 2\n",
    "        print(\"Area of Triangle formula: (Height * Breadth) / 2\")\n",
    "        print(\"Area of Triangle:\", area_of_triangle)\n",
    "\n",
    "    def PerimeterTriangle(self):\n",
    "        \n",
    "        height1 = int(input(\"Height1: \"))\n",
    "        height2 = int(input(\"Height2: \"))\n",
    "        breadth = int(input(\"Breadth: \"))\n",
    "\n",
    "    perimeter_of_triangle = height1 + height2 + breadth\n",
    "    print(\"Perimeter of Triangle formula: Height1 + Height2 + Breadth\")\n",
    "    print(\"Perimeter of Triangle:\", perimeter_of_triangle)\n",
    "\n"
   ]
  },
  {
   "cell_type": "code",
   "execution_count": 50,
   "id": "fc8af2b4",
   "metadata": {},
   "outputs": [
    {
     "ename": "IndentationError",
     "evalue": "unexpected indent (320243000.py, line 2)",
     "output_type": "error",
     "traceback": [
      "\u001b[1;36m  File \u001b[1;32m\"C:\\Users\\AB92922\\AppData\\Local\\Temp\\ipykernel_12296\\320243000.py\"\u001b[1;36m, line \u001b[1;32m2\u001b[0m\n\u001b[1;33m    triangle.AreaTriangle()\u001b[0m\n\u001b[1;37m    ^\u001b[0m\n\u001b[1;31mIndentationError\u001b[0m\u001b[1;31m:\u001b[0m unexpected indent\n"
     ]
    }
   ],
   "source": [
    " triangle = Triangle()\n",
    "  triangle.AreaTriangle()\n",
    "triangle.PerimeterTriangle()"
   ]
  },
  {
   "cell_type": "code",
   "execution_count": null,
   "id": "1882b6d1",
   "metadata": {},
   "outputs": [],
   "source": []
  }
 ],
 "metadata": {
  "kernelspec": {
   "display_name": "Python 3 (ipykernel)",
   "language": "python",
   "name": "python3"
  },
  "language_info": {
   "codemirror_mode": {
    "name": "ipython",
    "version": 3
   },
   "file_extension": ".py",
   "mimetype": "text/x-python",
   "name": "python",
   "nbconvert_exporter": "python",
   "pygments_lexer": "ipython3",
   "version": "3.9.13"
  }
 },
 "nbformat": 4,
 "nbformat_minor": 5
}
