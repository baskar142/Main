{
 "cells": [
  {
   "cell_type": "code",
   "execution_count": 1,
   "id": "bca8d35b",
   "metadata": {},
   "outputs": [
    {
     "name": "stdout",
     "output_type": "stream",
     "text": [
      "Hope AI\n"
     ]
    }
   ],
   "source": [
    "print(\"Hope AI\")"
   ]
  },
  {
   "cell_type": "code",
   "execution_count": 2,
   "id": "8193e04a",
   "metadata": {},
   "outputs": [
    {
     "name": "stdout",
     "output_type": "stream",
     "text": [
      "123\n"
     ]
    }
   ],
   "source": [
    "print(123)"
   ]
  },
  {
   "cell_type": "code",
   "execution_count": 3,
   "id": "421bae3f",
   "metadata": {},
   "outputs": [
    {
     "name": "stdout",
     "output_type": "stream",
     "text": [
      "2332a\n"
     ]
    }
   ],
   "source": [
    "print(\"2332a\")"
   ]
  },
  {
   "cell_type": "code",
   "execution_count": 4,
   "id": "75a1269e",
   "metadata": {},
   "outputs": [],
   "source": [
    "a=10\n",
    "b=21"
   ]
  },
  {
   "cell_type": "code",
   "execution_count": 5,
   "id": "c884b68a",
   "metadata": {},
   "outputs": [],
   "source": [
    "c=a+b"
   ]
  },
  {
   "cell_type": "code",
   "execution_count": 6,
   "id": "53b34468",
   "metadata": {},
   "outputs": [
    {
     "name": "stdout",
     "output_type": "stream",
     "text": [
      "the adddition of two numbers\n",
      "the number1: 10\n",
      "the number2: 21\n",
      "the sum: 31\n"
     ]
    }
   ],
   "source": [
    "print(\"the adddition of two numbers\")\n",
    "print(\"the number1:\", a)\n",
    "print(\"the number2:\", b)\n",
    "print(\"the sum:\", c)"
   ]
  },
  {
   "cell_type": "code",
   "execution_count": 7,
   "id": "553deb03",
   "metadata": {},
   "outputs": [
    {
     "name": "stdout",
     "output_type": "stream",
     "text": [
      "enter the num1:12\n"
     ]
    }
   ],
   "source": [
    "num1 =input(\"enter the num1:\")"
   ]
  },
  {
   "cell_type": "code",
   "execution_count": null,
   "id": "7dd487e4",
   "metadata": {},
   "outputs": [],
   "source": [
    "num2 =input(\"enter the num2:\")"
   ]
  },
  {
   "cell_type": "code",
   "execution_count": null,
   "id": "2301fa2c",
   "metadata": {},
   "outputs": [],
   "source": [
    "add =num1+num2"
   ]
  },
  {
   "cell_type": "code",
   "execution_count": null,
   "id": "f72ef0d2",
   "metadata": {},
   "outputs": [],
   "source": [
    "add"
   ]
  },
  {
   "cell_type": "code",
   "execution_count": null,
   "id": "3e8353d5",
   "metadata": {},
   "outputs": [],
   "source": [
    "num1 =int(input(\"enter the num1:\"))"
   ]
  },
  {
   "cell_type": "code",
   "execution_count": null,
   "id": "a59f62f0",
   "metadata": {},
   "outputs": [],
   "source": [
    "num2 =int(input(\"enter the num2:\"))"
   ]
  },
  {
   "cell_type": "code",
   "execution_count": null,
   "id": "e58ddd4b",
   "metadata": {},
   "outputs": [],
   "source": [
    "add =num1+num2"
   ]
  },
  {
   "cell_type": "code",
   "execution_count": null,
   "id": "86b10102",
   "metadata": {},
   "outputs": [],
   "source": [
    "add"
   ]
  },
  {
   "cell_type": "code",
   "execution_count": null,
   "id": "e4e4fe60",
   "metadata": {},
   "outputs": [],
   "source": [
    "print('a')"
   ]
  },
  {
   "cell_type": "code",
   "execution_count": null,
   "id": "be23ad8a",
   "metadata": {},
   "outputs": [],
   "source": []
  }
 ],
 "metadata": {
  "kernelspec": {
   "display_name": "Python 3 (ipykernel)",
   "language": "python",
   "name": "python3"
  },
  "language_info": {
   "codemirror_mode": {
    "name": "ipython",
    "version": 3
   },
   "file_extension": ".py",
   "mimetype": "text/x-python",
   "name": "python",
   "nbconvert_exporter": "python",
   "pygments_lexer": "ipython3",
   "version": "3.9.13"
  }
 },
 "nbformat": 4,
 "nbformat_minor": 5
}
