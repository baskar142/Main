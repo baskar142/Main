{
 "cells": [
  {
   "cell_type": "code",
   "execution_count": 1,
   "id": "8ebe1993",
   "metadata": {},
   "outputs": [
    {
     "name": "stdout",
     "output_type": "stream",
     "text": [
      "Hope AI\n"
     ]
    }
   ],
   "source": [
    "#print statement\n",
    "\n",
    "print(\"Hope AI\")"
   ]
  },
  {
   "cell_type": "code",
   "execution_count": 1,
   "id": "0a52ef61",
   "metadata": {},
   "outputs": [
    {
     "name": "stdout",
     "output_type": "stream",
     "text": [
      "Enter your institue name?:HOPE AI\n"
     ]
    }
   ],
   "source": [
    "#buy input\n",
    "\n",
    "name=input(\"Enter your institue name?:\")"
   ]
  },
  {
   "cell_type": "code",
   "execution_count": 2,
   "id": "7572e1f3",
   "metadata": {},
   "outputs": [
    {
     "name": "stdout",
     "output_type": "stream",
     "text": [
      "Enter your institue name:Raj\n",
      "Enter your institue age:15\n",
      "Enter your college name:Guru School\n",
      "Enter your degree:B.E CSE\n"
     ]
    }
   ],
   "source": [
    "#buy input\n",
    "\n",
    "name=input(\"Enter your institue name:\")\n",
    "name=input(\"Enter your institue age:\")\n",
    "name=input(\"Enter your college name:\")\n",
    "name=input(\"Enter your degree:\")\n"
   ]
  },
  {
   "cell_type": "code",
   "execution_count": 3,
   "id": "dd3a5a93",
   "metadata": {},
   "outputs": [
    {
     "name": "stdout",
     "output_type": "stream",
     "text": [
      "a=43\n",
      "b=34\n",
      "add= 77\n"
     ]
    }
   ],
   "source": [
    "#addition\n",
    "a=int(input(\"a=\"))\n",
    "b=int(input(\"b=\"))\n",
    "add = a+b\n",
    "print(\"add=\",add)"
   ]
  },
  {
   "cell_type": "code",
   "execution_count": 10,
   "id": "ed809b65",
   "metadata": {},
   "outputs": [
    {
     "name": "stdout",
     "output_type": "stream",
     "text": [
      "a=43\n",
      "b=34\n",
      "sub= 9\n"
     ]
    }
   ],
   "source": [
    "#subtraction\n",
    "a=int(input(\"a=\"))\n",
    "b=int(input(\"b=\"))\n",
    "c = a-b\n",
    "print(\"sub=\",c)"
   ]
  },
  {
   "cell_type": "code",
   "execution_count": 12,
   "id": "f0f0d688",
   "metadata": {},
   "outputs": [
    {
     "name": "stdout",
     "output_type": "stream",
     "text": [
      "a=63\n",
      "b=97\n",
      "mul= 6111\n"
     ]
    }
   ],
   "source": [
    "#multipication\n",
    "a=int(input(\"a=\"))\n",
    "b=int(input(\"b=\"))\n",
    "c = a*b\n",
    "print(\"mul=\",c)"
   ]
  },
  {
   "cell_type": "code",
   "execution_count": 15,
   "id": "d2592898",
   "metadata": {},
   "outputs": [
    {
     "name": "stdout",
     "output_type": "stream",
     "text": [
      "a=76\n",
      "b=31\n",
      "Float div= 2.4516129032258065\n"
     ]
    }
   ],
   "source": [
    "#division\n",
    "a=int(input(\"a=\"))\n",
    "b=int(input(\"b=\"))\n",
    "c = a/b\n",
    "print(\"Float div=\",c)"
   ]
  },
  {
   "cell_type": "code",
   "execution_count": 16,
   "id": "324e87b5",
   "metadata": {},
   "outputs": [
    {
     "name": "stdout",
     "output_type": "stream",
     "text": [
      "a=76\n",
      "b=31\n",
      "Floor div= 2\n"
     ]
    }
   ],
   "source": [
    "#floor division\n",
    "\n",
    "#division\n",
    "a=int(input(\"a=\"))\n",
    "b=int(input(\"b=\"))\n",
    "c = a//b\n",
    "print(\"Floor div=\",c)\n"
   ]
  },
  {
   "cell_type": "code",
   "execution_count": 17,
   "id": "f2cede6d",
   "metadata": {},
   "outputs": [
    {
     "name": "stdout",
     "output_type": "stream",
     "text": [
      "a=76\n",
      "b=31\n",
      "modulo= 14\n"
     ]
    }
   ],
   "source": [
    "#modulus division\n",
    "\n",
    "\n",
    "a=int(input(\"a=\"))\n",
    "b=int(input(\"b=\"))\n",
    "c = a%b\n",
    "print(\"modulo=\",c)"
   ]
  },
  {
   "cell_type": "code",
   "execution_count": 18,
   "id": "37afe313",
   "metadata": {},
   "outputs": [
    {
     "name": "stdout",
     "output_type": "stream",
     "text": [
      "a=4\n",
      "b=4\n",
      "power= 256\n"
     ]
    }
   ],
   "source": [
    "#power\n",
    "\n",
    "\n",
    "a=int(input(\"a=\"))\n",
    "b=int(input(\"b=\"))\n",
    "c = a**b\n",
    "print(\"power=\",c)"
   ]
  },
  {
   "cell_type": "code",
   "execution_count": null,
   "id": "3b3391e9",
   "metadata": {},
   "outputs": [],
   "source": []
  }
 ],
 "metadata": {
  "kernelspec": {
   "display_name": "Python 3 (ipykernel)",
   "language": "python",
   "name": "python3"
  },
  "language_info": {
   "codemirror_mode": {
    "name": "ipython",
    "version": 3
   },
   "file_extension": ".py",
   "mimetype": "text/x-python",
   "name": "python",
   "nbconvert_exporter": "python",
   "pygments_lexer": "ipython3",
   "version": "3.9.13"
  }
 },
 "nbformat": 4,
 "nbformat_minor": 5
}
