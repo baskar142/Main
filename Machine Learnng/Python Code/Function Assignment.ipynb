{
 "cells": [
  {
   "cell_type": "code",
   "execution_count": 3,
   "id": "29e9429c",
   "metadata": {},
   "outputs": [],
   "source": [
    "def Subfields():\n",
    "    print(\"Sub-fields in AI are:\")\n",
    "    for sub in SubfieldsInAI:\n",
    "        print(sub)"
   ]
  },
  {
   "cell_type": "code",
   "execution_count": 2,
   "id": "bcef7717",
   "metadata": {},
   "outputs": [],
   "source": [
    "SubfieldsInAI=[\"Machine Learning\",\"Neural Networks\",\"Vision\",\"Robotics\",\"Speech Processing\",\"Natural Language Processing\"]"
   ]
  },
  {
   "cell_type": "code",
   "execution_count": 4,
   "id": "2535d316",
   "metadata": {},
   "outputs": [
    {
     "name": "stdout",
     "output_type": "stream",
     "text": [
      "Sub-fields in AI are:\n",
      "Machine Learning\n",
      "Neural Networks\n",
      "Vision\n",
      "Robotics\n",
      "Speech Processing\n",
      "Natural Language Processing\n"
     ]
    }
   ],
   "source": [
    "Subfields()"
   ]
  },
  {
   "cell_type": "code",
   "execution_count": 3,
   "id": "ac546a2e",
   "metadata": {},
   "outputs": [
    {
     "name": "stdout",
     "output_type": "stream",
     "text": [
      "Enter a number: 52452\n",
      "52452 is an even number\n"
     ]
    }
   ],
   "source": [
    "def check_even_odd(number):\n",
    "    if number % 2 == 0:\n",
    "        return f\"{number} is an even number\"\n",
    "    else:\n",
    "        return f\"{number} is an odd number\"\n",
    "    \n",
    "number = int(input(\"Enter a number: \"))\n",
    "result = check_even_odd(number)\n",
    "print(result)\n"
   ]
  },
  {
   "cell_type": "code",
   "execution_count": 5,
   "id": "a95e8932",
   "metadata": {},
   "outputs": [],
   "source": [
    "# Create a function that tells elegibility of marriage for male and female according to their age limit like 21 for male and 18 for female\n",
    "\n",
    "def check_marriage_eligibility(gender,age):\n",
    "        if gender=='Male' and age>=21:\n",
    "            return \"ELIGIBLE\"\n",
    "        elif gender=='Female' and age>=18:\n",
    "            return \"ELIGIBLE\"\n",
    "        else:\n",
    "            return \"NOT ELIGIBLE\"\n",
    "    \n",
    "\n",
    "\n"
   ]
  },
  {
   "cell_type": "code",
   "execution_count": 9,
   "id": "8b37e9a5",
   "metadata": {},
   "outputs": [
    {
     "name": "stdout",
     "output_type": "stream",
     "text": [
      "Your Gender: Male\n",
      "Your Age: 20\n",
      "NOT ELIGIBLE\n"
     ]
    }
   ],
   "source": [
    "gender = input(\"Your Gender: \")\n",
    "age = int(input(\"Your Age: \"))\n",
    "result = check_marriage_eligibility(gender, age)\n",
    "print(result)"
   ]
  },
  {
   "cell_type": "code",
   "execution_count": 12,
   "id": "b9a68377",
   "metadata": {},
   "outputs": [],
   "source": [
    "# calculate the percentage of your 10th mark\n",
    "\n",
    "def print_subjects_and_results(subject1, subject2, subject3, subject4, subject5):\n",
    "    total_marks = subject1 + subject2 + subject3 + subject4 + subject5\n",
    "    total_subjects = 5\n",
    "    percentage = (total_marks / (total_subjects * 100)) * 100\n",
    "    \n",
    "    \n",
    "    print(f\"Subject1= {subject1}\")\n",
    "    print(f\"Subject2= {subject2}\")\n",
    "    print(f\"Subject3= {subject3}\")\n",
    "    print(f\"Subject4= {subject4}\")\n",
    "    print(f\"Subject5= {subject5}\")\n",
    "\n",
    "    # Print total marks and percentage\n",
    "    print(f\"Total : {total_marks}\")\n",
    "    print(f\"Percentage : {percentage}\")\n",
    "\n",
    "    "
   ]
  },
  {
   "cell_type": "code",
   "execution_count": 13,
   "id": "8e61ca48",
   "metadata": {},
   "outputs": [
    {
     "name": "stdout",
     "output_type": "stream",
     "text": [
      "Subject1= 98\n",
      "Subject2= 87\n",
      "Subject3= 95\n",
      "Subject4= 95\n",
      "Subject5= 93\n",
      "Total : 468\n",
      "Percentage : 93.60000000000001\n"
     ]
    }
   ],
   "source": [
    "print_subjects_and_results(98, 87, 95, 95, 93)"
   ]
  },
  {
   "cell_type": "code",
   "execution_count": 14,
   "id": "cce8b124",
   "metadata": {},
   "outputs": [
    {
     "name": "stdout",
     "output_type": "stream",
     "text": [
      "Height: 32\n",
      "Breadth: 34\n",
      "Area formula: (Height*Breadth)/2\n",
      "Area of Triangle: 544.0\n",
      "Height1: 2\n",
      "Height2: 4\n",
      "Perimeter formula: Height1+Height2+Breadth\n",
      "Perimeter of Triangle: 40\n"
     ]
    }
   ],
   "source": [
    "def print_triangle_info(height, breadth, height1, height2):\n",
    "    # Calculate area\n",
    "    area = (height * breadth) / 2\n",
    "\n",
    "    # Calculate perimeter\n",
    "    perimeter = height1 + height2 + breadth\n",
    "\n",
    "    # Print information\n",
    "    print(f\"Height: {height}\")\n",
    "    print(f\"Breadth: {breadth}\")\n",
    "    print(\"Area formula: (Height*Breadth)/2\")\n",
    "    print(f\"Area of Triangle: {area}\")\n",
    "\n",
    "    print(f\"Height1: {height1}\")\n",
    "    print(f\"Height2: {height2}\")\n",
    "    print(\"Perimeter formula: Height1+Height2+Breadth\")\n",
    "    print(f\"Perimeter of Triangle: {perimeter}\")\n",
    "\n",
    "# Example usage:\n",
    "print_triangle_info(32, 34, 2, 4)"
   ]
  },
  {
   "cell_type": "code",
   "execution_count": null,
   "id": "968c1e9d",
   "metadata": {},
   "outputs": [],
   "source": []
  }
 ],
 "metadata": {
  "kernelspec": {
   "display_name": "Python 3 (ipykernel)",
   "language": "python",
   "name": "python3"
  },
  "language_info": {
   "codemirror_mode": {
    "name": "ipython",
    "version": 3
   },
   "file_extension": ".py",
   "mimetype": "text/x-python",
   "name": "python",
   "nbconvert_exporter": "python",
   "pygments_lexer": "ipython3",
   "version": "3.9.13"
  }
 },
 "nbformat": 4,
 "nbformat_minor": 5
}
